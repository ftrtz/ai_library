{
 "cells": [
  {
   "cell_type": "markdown",
   "metadata": {},
   "source": [
    "# ai_library\n",
    "CNN for classification of custom generated image data\n",
    "### Imports and jupyter TensorBoard extension"
   ]
  },
  {
   "cell_type": "code",
   "execution_count": 1,
   "metadata": {
    "pycharm": {
     "name": "#%%\n"
    }
   },
   "outputs": [],
   "source": [
    "# load TensorBoard\n",
    "%load_ext tensorboard\n",
    "# imports\n",
    "import datetime\n",
    "from tensorflow.keras.callbacks import TensorBoard, EarlyStopping\n",
    "\n",
    "from CustomData import CustomData\n",
    "from NeuralNet import NeuralNet\n",
    "from Visualisation import Visualisation\n"
   ]
  },
  {
   "cell_type": "markdown",
   "metadata": {
    "pycharm": {
     "name": "#%% md\n"
    }
   },
   "source": [
    "### Parameters for CNN fit"
   ]
  },
  {
   "cell_type": "code",
   "execution_count": 2,
   "metadata": {
    "pycharm": {
     "name": "#%%\n"
    }
   },
   "outputs": [],
   "source": [
    "# parameters\n",
    "EPOCHS = 30\n",
    "BATCH_SIZE = 128\n"
   ]
  },
  {
   "cell_type": "markdown",
   "metadata": {},
   "source": [
    "### Generate train and test data using the CustomData class\n",
    "*generate_data* generates an array containing a specified number of images showing random shapes and a list containing the corresponding labels"
   ]
  },
  {
   "cell_type": "code",
   "execution_count": 3,
   "metadata": {
    "pycharm": {
     "name": "#%%\n"
    }
   },
   "outputs": [],
   "source": [
    "# generate custom data\n",
    "data_gen = CustomData()\n",
    "\n",
    "x_train, y_train = data_gen.generate_data(n=15000)\n",
    "x_test, y_test = data_gen.generate_data(n=3000)"
   ]
  },
  {
   "cell_type": "markdown",
   "metadata": {},
   "source": [
    "### Let's take a look at the generated data\n",
    "The shapes are: line, circle, rectangle, triangle and chair\n",
    "\n",
    "rerun the code below to see a different sample"
   ]
  },
  {
   "cell_type": "code",
   "execution_count": 7,
   "metadata": {
    "pycharm": {
     "name": "#%%\n"
    }
   },
   "outputs": [
    {
     "data": {
      "text/plain": "<Figure size 576x288 with 10 Axes>",
      "image/png": "[encoded data removed]"
     },
     "metadata": {},
     "output_type": "display_data"
    }
   ],
   "source": [
    "# show images\n",
    "viz = Visualisation()\n",
    "viz.img_plot(\"Sample Images and corresponding labels\", x_train, y_train)"
   ]
  },
  {
   "cell_type": "markdown",
   "metadata": {},
   "source": [
    "### Preprocess data to feed into the model and store number of classes for classification\n",
    "*preprocessing* reshapes the array, normalizes pixel values and turns string labels to integers"
   ]
  },
  {
   "cell_type": "code",
   "execution_count": 8,
   "metadata": {
    "pycharm": {
     "name": "#%%\n"
    }
   },
   "outputs": [],
   "source": [
    "# preprocessing\n",
    "x_train, y_train, labels_train = data_gen.preprocessing(x_train, y_train)\n",
    "x_test, y_test, labels_test = data_gen.preprocessing(x_test, y_test)\n",
    "\n",
    "# number of classes\n",
    "num_classes = len(labels_train)"
   ]
  },
  {
   "cell_type": "markdown",
   "metadata": {},
   "source": [
    "### Initialize model and set callbacks"
   ]
  },
  {
   "cell_type": "code",
   "execution_count": 9,
   "metadata": {
    "pycharm": {
     "name": "#%%\n"
    }
   },
   "outputs": [],
   "source": [
    "# initialize model\n",
    "model = NeuralNet(num_classes)\n",
    "\n",
    "# callbacks\n",
    "# early stopping\n",
    "early_stopping = EarlyStopping(monitor=\"val_loss\", mode=\"min\", patience=2)\n",
    "# tensorboard\n",
    "log_dir = \"logs/fit/\" + datetime.datetime.now().strftime(\"%Y%m%d-%H%M%S\")\n",
    "tensorboard_cb = TensorBoard(log_dir=log_dir, histogram_freq=1)\n",
    "\n",
    "callbacks = [early_stopping, tensorboard_cb]"
   ]
  },
  {
   "cell_type": "markdown",
   "metadata": {},
   "source": [
    "### Train the model"
   ]
  },
  {
   "cell_type": "code",
   "execution_count": 10,
   "metadata": {
    "pycharm": {
     "name": "#%%\n"
    }
   },
   "outputs": [
    {
     "name": "stdout",
     "output_type": "stream",
     "text": [
      "Epoch 1/30\n",
      "94/94 - 48s - loss: 0.3542 - accuracy: 0.8587 - val_loss: 0.0541 - val_accuracy: 0.9833\n",
      "Epoch 2/30\n",
      "94/94 - 45s - loss: 0.0418 - accuracy: 0.9875 - val_loss: 0.0665 - val_accuracy: 0.9717\n",
      "Epoch 3/30\n",
      "94/94 - 45s - loss: 0.0320 - accuracy: 0.9900 - val_loss: 0.0147 - val_accuracy: 0.9957\n",
      "Epoch 4/30\n",
      "94/94 - 45s - loss: 0.0180 - accuracy: 0.9958 - val_loss: 0.0148 - val_accuracy: 0.9960\n",
      "Epoch 5/30\n",
      "94/94 - 45s - loss: 0.0144 - accuracy: 0.9961 - val_loss: 0.0159 - val_accuracy: 0.9957\n"
     ]
    }
   ],
   "source": [
    "# train model\n",
    "history = model.comp_and_fit(x_train, y_train, EPOCHS, BATCH_SIZE, callbacks)"
   ]
  },
  {
   "cell_type": "markdown",
   "metadata": {},
   "source": [
    "### Let's take a look at the loss and accuracy curves in TensorBoard"
   ]
  },
  {
   "cell_type": "code",
   "execution_count": null,
   "metadata": {
    "pycharm": {
     "name": "#%%\n"
    }
   },
   "outputs": [],
   "source": [
    "%tensorboard --logdir logs"
   ]
  },
  {
   "cell_type": "markdown",
   "metadata": {},
   "source": [
    "The learning curves show no signs of under or overfitting. Accuracy increases and loss decreases over epochs for training and validation sets and there is only a small gap between the curves at the end of training."
   ]
  },
  {
   "cell_type": "markdown",
   "metadata": {},
   "source": [
    "### Evaluate the model on the test data"
   ]
  },
  {
   "cell_type": "code",
   "execution_count": 11,
   "metadata": {
    "pycharm": {
     "name": "#%%\n"
    }
   },
   "outputs": [
    {
     "name": "stdout",
     "output_type": "stream",
     "text": [
      "Accuracy: 99.5 %\n"
     ]
    }
   ],
   "source": [
    "# model evaluation\n",
    "loss, accuracy = model.test_eval(x_test, y_test)\n",
    "print(\"Accuracy:\", round(accuracy * 100, 2), \"%\")"
   ]
  },
  {
   "cell_type": "markdown",
   "metadata": {},
   "source": [
    "The model is able to accurately predict on the test data\n",
    "\n",
    "A look at the confusion matrix provides more info on errors: Apparently the model sometimes confuses triangles and lines"
   ]
  },
  {
   "cell_type": "code",
   "execution_count": 12,
   "metadata": {
    "pycharm": {
     "name": "#%%\n"
    }
   },
   "outputs": [
    {
     "data": {
      "text/plain": "<Figure size 576x432 with 2 Axes>",
      "image/png": "[encoded data removed]"
     },
     "metadata": {
      "needs_background": "light"
     },
     "output_type": "display_data"
    }
   ],
   "source": [
    "# predictions\n",
    "y_preds = model.test_pred(x_test)\n",
    "# confusion matrix\n",
    "viz.cm_plot(y_test, y_preds, labels_test)"
   ]
  },
  {
   "cell_type": "markdown",
   "metadata": {},
   "source": [
    "#### Run the code below to see random image samples and the predicted labels"
   ]
  },
  {
   "cell_type": "code",
   "execution_count": 14,
   "metadata": {
    "pycharm": {
     "name": "#%%\n"
    }
   },
   "outputs": [
    {
     "data": {
      "text/plain": "<Figure size 576x288 with 10 Axes>",
      "image/png": "[encoded data removed]"
     },
     "metadata": {},
     "output_type": "display_data"
    }
   ],
   "source": [
    "# plot sample\n",
    "viz.img_plot(\"Sample images and predicted labels\", x_test, labels_test[y_preds])"
   ]
  }
 ],
 "metadata": {
  "kernelspec": {
   "display_name": "Python 3",
   "language": "python",
   "name": "python3"
  },
  "language_info": {
   "codemirror_mode": {
    "name": "ipython",
    "version": 3
   },
   "file_extension": ".py",
   "mimetype": "text/x-python",
   "name": "python",
   "nbconvert_exporter": "python",
   "pygments_lexer": "ipython3",
   "version": "3.8.1"
  }
 },
 "nbformat": 4,
 "nbformat_minor": 1
}