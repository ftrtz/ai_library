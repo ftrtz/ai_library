{
 "cells": [
  {
   "cell_type": "markdown",
   "metadata": {},
   "source": [
    "# ai_library\n",
    "CNN for classification of custom generated image data\n",
    "### Imports and jupyter TensorBoard extension"
   ]
  },
  {
   "cell_type": "code",
   "execution_count": 1,
   "metadata": {
    "pycharm": {
     "is_executing": true,
     "name": "#%%\n"
    }
   },
   "outputs": [],
   "source": [
    "# load TensorBoard\n",
    "%load_ext tensorboard\n",
    "# imports\n",
    "import datetime\n",
    "from tensorflow.keras.callbacks import TensorBoard, EarlyStopping\n",
    "\n",
    "from CustomData import CustomData\n",
    "from NeuralNet import NeuralNet\n",
    "from Visualisation import Visualisation\n"
   ]
  },
  {
   "cell_type": "markdown",
   "metadata": {
    "pycharm": {
     "name": "#%% md\n"
    }
   },
   "source": [
    "### Parameters for CNN fit"
   ]
  },
  {
   "cell_type": "code",
   "execution_count": 2,
   "metadata": {
    "pycharm": {
     "name": "#%%\n"
    }
   },
   "outputs": [],
   "source": [
    "# parameters\n",
    "EPOCHS = 30\n",
    "BATCH_SIZE = 128\n"
   ]
  },
  {
   "cell_type": "markdown",
   "metadata": {},
   "source": [
    "### Generate train and test data using the CustomData class\n",
    "*generate_data* generates an array containing a specified number of images showing random shapes and a list containing the corresponding labels"
   ]
  },
  {
   "cell_type": "code",
   "execution_count": 3,
   "metadata": {
    "pycharm": {
     "name": "#%%\n"
    }
   },
   "outputs": [],
   "source": [
    "# generate custom data\n",
    "data_gen = CustomData()\n",
    "\n",
    "x_train, y_train = data_gen.generate_data(n=15000)\n",
    "x_test, y_test = data_gen.generate_data(n=3000)"
   ]
  },
  {
   "cell_type": "markdown",
   "metadata": {},
   "source": [
    "### Let's take a look at the generated data\n",
    "The shapes are: line, ellipse, rectangle, triangle and hourglass\n",
    "\n",
    "rerun the code below to see a different sample"
   ]
  },
  {
   "cell_type": "code",
   "execution_count": 4,
   "metadata": {
    "pycharm": {
     "name": "#%%\n"
    }
   },
   "outputs": [
    {
     "data": {
      "image/png": "[encoded data removed]",
      "text/plain": [
       "<Figure size 576x288 with 10 Axes>"
      ]
     },
     "metadata": {},
     "output_type": "display_data"
    }
   ],
   "source": [
    "# show images\n",
    "viz = Visualisation()\n",
    "viz.img_plot(\"Sample Images and corresponding labels\", x_train, y_train)"
   ]
  },
  {
   "cell_type": "markdown",
   "metadata": {},
   "source": [
    "### Preprocess data to feed into the model and store number of classes for classification\n",
    "*preprocessing* reshapes the array, normalizes pixel values and turns string labels to integers"
   ]
  },
  {
   "cell_type": "code",
   "execution_count": 5,
   "metadata": {
    "pycharm": {
     "name": "#%%\n"
    }
   },
   "outputs": [],
   "source": [
    "# preprocessing\n",
    "x_train, y_train, labels_train = data_gen.preprocessing(x_train, y_train)\n",
    "x_test, y_test, labels_test = data_gen.preprocessing(x_test, y_test)\n",
    "\n",
    "# number of classes\n",
    "num_classes = len(labels_train)"
   ]
  },
  {
   "cell_type": "markdown",
   "metadata": {},
   "source": [
    "### Initialize model and set callbacks"
   ]
  },
  {
   "cell_type": "code",
   "execution_count": 6,
   "metadata": {
    "pycharm": {
     "name": "#%%\n"
    }
   },
   "outputs": [],
   "source": [
    "# initialize model\n",
    "model = NeuralNet(num_classes)\n",
    "\n",
    "# callbacks\n",
    "# early stopping\n",
    "early_stopping = EarlyStopping(monitor=\"val_loss\", mode=\"min\", patience=2)\n",
    "# tensorboard\n",
    "log_dir = \"logs/fit/\" + datetime.datetime.now().strftime(\"%Y%m%d-%H%M%S\")\n",
    "tensorboard_cb = TensorBoard(log_dir=log_dir, histogram_freq=1)\n",
    "\n",
    "callbacks = [early_stopping, tensorboard_cb]"
   ]
  },
  {
   "cell_type": "markdown",
   "metadata": {},
   "source": [
    "### Train the model"
   ]
  },
  {
   "cell_type": "code",
   "execution_count": 7,
   "metadata": {
    "pycharm": {
     "name": "#%%\n"
    }
   },
   "outputs": [
    {
     "name": "stdout",
     "output_type": "stream",
     "text": [
      "Epoch 1/30\n",
      "94/94 - 57s - loss: 0.3518 - accuracy: 0.8595 - val_loss: 0.0554 - val_accuracy: 0.9863\n",
      "Epoch 2/30\n",
      "94/94 - 47s - loss: 0.0538 - accuracy: 0.9826 - val_loss: 0.0289 - val_accuracy: 0.9927\n",
      "Epoch 3/30\n",
      "94/94 - 48s - loss: 0.0292 - accuracy: 0.9918 - val_loss: 0.0177 - val_accuracy: 0.9943\n",
      "Epoch 4/30\n",
      "94/94 - 51s - loss: 0.0264 - accuracy: 0.9924 - val_loss: 0.0315 - val_accuracy: 0.9913\n",
      "Epoch 5/30\n",
      "94/94 - 52s - loss: 0.0250 - accuracy: 0.9933 - val_loss: 0.0164 - val_accuracy: 0.9950\n",
      "Epoch 6/30\n",
      "94/94 - 50s - loss: 0.0173 - accuracy: 0.9949 - val_loss: 0.0083 - val_accuracy: 0.9983\n",
      "Epoch 7/30\n",
      "94/94 - 50s - loss: 0.0124 - accuracy: 0.9967 - val_loss: 0.0092 - val_accuracy: 0.9977\n",
      "Epoch 8/30\n",
      "94/94 - 50s - loss: 0.0114 - accuracy: 0.9970 - val_loss: 0.0105 - val_accuracy: 0.9970\n"
     ]
    }
   ],
   "source": [
    "# train model\n",
    "history = model.comp_and_fit(x_train, y_train, EPOCHS, BATCH_SIZE, callbacks)"
   ]
  },
  {
   "cell_type": "markdown",
   "metadata": {},
   "source": [
    "### Let's take a look at the loss and accuracy curves in TensorBoard"
   ]
  },
  {
   "cell_type": "code",
   "execution_count": 9,
   "metadata": {
    "pycharm": {
     "name": "#%%\n"
    }
   },
   "outputs": [
    {
     "data": {
      "text/plain": [
       "Reusing TensorBoard on port 6006 (pid 14808), started 0:01:25 ago. (Use '!kill 14808' to kill it.)"
      ]
     },
     "metadata": {},
     "output_type": "display_data"
    },
    {
     "data": {
      "text/html": [
       "\n",
       "      <iframe id=\"tensorboard-frame-ddde493d4a9e2344\" width=\"100%\" height=\"800\" frameborder=\"0\">\n",
       "      </iframe>\n",
       "      <script>\n",
       "        (function() {\n",
       "          const frame = document.getElementById(\"tensorboard-frame-ddde493d4a9e2344\");\n",
       "          const url = new URL(\"/\", window.location);\n",
       "          const port = 6006;\n",
       "          if (port) {\n",
       "            url.port = port;\n",
       "          }\n",
       "          frame.src = url;\n",
       "        })();\n",
       "      </script>\n",
       "    "
      ],
      "text/plain": [
       "<IPython.core.display.HTML object>"
      ]
     },
     "metadata": {},
     "output_type": "display_data"
    }
   ],
   "source": [
    "%tensorboard --logdir logs"
   ]
  },
  {
   "cell_type": "markdown",
   "metadata": {},
   "source": [
    "The learning curves show no signs of under or overfitting. Accuracy increases and loss decreases over epochs for training and validation sets and there is only a small gap between the curves at the end of training."
   ]
  },
  {
   "cell_type": "markdown",
   "metadata": {},
   "source": [
    "### Evaluate the model on the test data"
   ]
  },
  {
   "cell_type": "code",
   "execution_count": 10,
   "metadata": {
    "pycharm": {
     "name": "#%%\n"
    }
   },
   "outputs": [
    {
     "name": "stdout",
     "output_type": "stream",
     "text": [
      "Accuracy: 99.7 %\n"
     ]
    }
   ],
   "source": [
    "# model evaluation\n",
    "loss, accuracy = model.test_eval(x_test, y_test)\n",
    "print(\"Accuracy:\", round(accuracy * 100, 2), \"%\")"
   ]
  },
  {
   "cell_type": "markdown",
   "metadata": {},
   "source": [
    "The model is able to accurately predict on the test data\n",
    "\n",
    "A look at the confusion matrix provides more info on errors:\n",
    "Apparently the model occasionally confuses triangles with ellipses and lines"
   ]
  },
  {
   "cell_type": "code",
   "execution_count": 11,
   "metadata": {
    "pycharm": {
     "name": "#%%\n"
    }
   },
   "outputs": [
    {
     "data": {
      "image/png": "[encoded data removed]",
      "text/plain": [
       "<Figure size 576x432 with 2 Axes>"
      ]
     },
     "metadata": {
      "needs_background": "light"
     },
     "output_type": "display_data"
    }
   ],
   "source": [
    "# predictions\n",
    "y_preds = model.test_pred(x_test)\n",
    "# confusion matrix\n",
    "viz.cm_plot(y_test, y_preds, labels_test)"
   ]
  },
  {
   "cell_type": "markdown",
   "metadata": {},
   "source": [
    "#### Run the code below to see random image samples and the predicted labels"
   ]
  },
  {
   "cell_type": "code",
   "execution_count": 12,
   "metadata": {
    "pycharm": {
     "name": "#%%\n"
    }
   },
   "outputs": [
    {
     "data": {
      "image/png": "[encoded data removed]",
      "text/plain": [
       "<Figure size 576x288 with 10 Axes>"
      ]
     },
     "metadata": {},
     "output_type": "display_data"
    }
   ],
   "source": [
    "# plot sample\n",
    "viz.img_plot(\"Sample images and predicted labels\", x_test, labels_test[y_preds])"
   ]
  }
 ],
 "metadata": {
  "kernelspec": {
   "display_name": "Python 3",
   "language": "python",
   "name": "python3"
  },
  "language_info": {
   "codemirror_mode": {
    "name": "ipython",
    "version": 3
   },
   "file_extension": ".py",
   "mimetype": "text/x-python",
   "name": "python",
   "nbconvert_exporter": "python",
   "pygments_lexer": "ipython3",
   "version": "3.8.9"
  }
 },
 "nbformat": 4,
 "nbformat_minor": 1
}