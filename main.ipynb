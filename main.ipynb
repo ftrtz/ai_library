{
 "cells": [
  {
   "cell_type": "code",
   "execution_count": 2,
   "metadata": {
    "pycharm": {
     "name": "#%%\n"
    }
   },
   "outputs": [],
   "source": [
    "# load TensorBoard\n",
    "%load_ext tensorboard\n",
    "# imports\n",
    "import datetime\n",
    "from tensorflow.keras.callbacks import TensorBoard, EarlyStopping\n",
    "\n",
    "from CustomData import CustomData\n",
    "from NeuralNet import NeuralNet\n",
    "from Visualisation import Visualisation"
   ]
  },
  {
   "cell_type": "code",
   "execution_count": 3,
   "metadata": {
    "pycharm": {
     "name": "#%%\n"
    }
   },
   "outputs": [],
   "source": [
    "# parameters\n",
    "EPOCHS = 10\n",
    "BATCH_SIZE = 128"
   ]
  },
  {
   "cell_type": "code",
   "execution_count": 4,
   "metadata": {
    "pycharm": {
     "name": "#%%\n"
    }
   },
   "outputs": [],
   "source": [
    "# generate custom data\n",
    "data_gen = CustomData()\n",
    "\n",
    "x_train, y_train = data_gen.generate_data(n=10000)\n",
    "x_test, y_test = data_gen.generate_data(n=2000)"
   ]
  },
  {
   "cell_type": "code",
   "execution_count": 5,
   "metadata": {
    "pycharm": {
     "name": "#%%\n"
    }
   },
   "outputs": [
    {
     "data": {
      "text/plain": "<Figure size 576x288 with 10 Axes>",
      "image/png": "[encoded data removed]"
     },
     "metadata": {},
     "output_type": "display_data"
    }
   ],
   "source": [
    "# show images\n",
    "viz = Visualisation()\n",
    "\n",
    "plot = viz.img_plot(\"Sample Images and corresponding labels\", x_train, y_train)"
   ]
  },
  {
   "cell_type": "code",
   "execution_count": 6,
   "metadata": {
    "pycharm": {
     "name": "#%%\n"
    }
   },
   "outputs": [],
   "source": [
    "# preprocessing\n",
    "x_train, y_train, labels_train = data_gen.preprocessing(x_train, y_train)\n",
    "x_test, y_test, labels_test = data_gen.preprocessing(x_test, y_test)\n",
    "\n",
    "# input shape and number of classes\n",
    "inp_shape = x_train.shape\n",
    "num_classes = len(labels_train)"
   ]
  },
  {
   "cell_type": "code",
   "execution_count": 7,
   "metadata": {
    "pycharm": {
     "name": "#%%\n"
    }
   },
   "outputs": [],
   "source": [
    "# initialize model\n",
    "model = NeuralNet(num_classes)"
   ]
  },
  {
   "cell_type": "code",
   "execution_count": 8,
   "metadata": {
    "pycharm": {
     "name": "#%%\n"
    }
   },
   "outputs": [],
   "source": [
    "# Callbacks\n",
    "# early stopping\n",
    "early_stopping = EarlyStopping(monitor=\"loss\", mode=\"min\", patience=2)\n",
    "# tensorboard\n",
    "log_dir = \"logs/fit/\" + datetime.datetime.now().strftime(\"%Y%m%d-%H%M%S\")\n",
    "tensorboard_cb = TensorBoard(log_dir=log_dir, histogram_freq=1)\n",
    "\n",
    "callbacks = [early_stopping, tensorboard_cb]"
   ]
  },
  {
   "cell_type": "code",
   "execution_count": 9,
   "metadata": {
    "pycharm": {
     "name": "#%%\n"
    }
   },
   "outputs": [
    {
     "name": "stdout",
     "output_type": "stream",
     "text": [
      "Epoch 1/10\n",
      "63/63 - 33s - loss: 0.2405 - accuracy: 0.8949 - val_loss: 0.0314 - val_accuracy: 0.9885\n",
      "Epoch 2/10\n",
      "63/63 - 30s - loss: 0.0224 - accuracy: 0.9927 - val_loss: 0.0185 - val_accuracy: 0.9940\n",
      "Epoch 3/10\n",
      "63/63 - 31s - loss: 0.0097 - accuracy: 0.9969 - val_loss: 0.0124 - val_accuracy: 0.9965\n",
      "Epoch 4/10\n",
      "63/63 - 30s - loss: 0.0066 - accuracy: 0.9981 - val_loss: 0.0125 - val_accuracy: 0.9960\n",
      "Epoch 5/10\n",
      "63/63 - 30s - loss: 0.0039 - accuracy: 0.9991 - val_loss: 0.0070 - val_accuracy: 0.9960\n",
      "Epoch 6/10\n",
      "63/63 - 30s - loss: 0.0033 - accuracy: 0.9986 - val_loss: 0.0084 - val_accuracy: 0.9960\n",
      "Epoch 7/10\n",
      "63/63 - 30s - loss: 0.0029 - accuracy: 0.9994 - val_loss: 0.0065 - val_accuracy: 0.9955\n",
      "Epoch 8/10\n",
      "63/63 - 30s - loss: 0.0028 - accuracy: 0.9991 - val_loss: 0.0176 - val_accuracy: 0.9925\n",
      "Epoch 9/10\n",
      "63/63 - 30s - loss: 0.0026 - accuracy: 0.9990 - val_loss: 0.0018 - val_accuracy: 0.9995\n",
      "Epoch 10/10\n",
      "63/63 - 30s - loss: 2.4253e-04 - accuracy: 1.0000 - val_loss: 0.0030 - val_accuracy: 0.9980\n"
     ]
    }
   ],
   "source": [
    "# train model\n",
    "history = model.comp_and_fit(x_train, y_train, EPOCHS, BATCH_SIZE, callbacks)"
   ]
  },
  {
   "cell_type": "code",
   "execution_count": 10,
   "metadata": {
    "pycharm": {
     "name": "#%%\n"
    }
   },
   "outputs": [
    {
     "data": {
      "text/plain": "Launching TensorBoard..."
     },
     "metadata": {},
     "output_type": "display_data"
    },
    {
     "data": {
      "text/plain": "<IPython.core.display.HTML object>",
      "text/html": "\n      <iframe id=\"tensorboard-frame-4eff6adacc05c8bd\" width=\"100%\" height=\"800\" frameborder=\"0\">\n      </iframe>\n      <script>\n        (function() {\n          const frame = document.getElementById(\"tensorboard-frame-4eff6adacc05c8bd\");\n          const url = new URL(\"/\", window.location);\n          const port = 6006;\n          if (port) {\n            url.port = port;\n          }\n          frame.src = url;\n        })();\n      </script>\n    "
     },
     "metadata": {},
     "output_type": "display_data"
    }
   ],
   "source": [
    "%tensorboard --logdir logs"
   ]
  },
  {
   "cell_type": "code",
   "execution_count": 11,
   "metadata": {
    "pycharm": {
     "name": "#%%\n"
    }
   },
   "outputs": [
    {
     "name": "stdout",
     "output_type": "stream",
     "text": [
      "Accuracy: 100.0 %\n"
     ]
    }
   ],
   "source": [
    "# model evaluation\n",
    "loss, accuracy = model.test_eval(x_test, y_test)\n",
    "print(\"Accuracy:\", round(accuracy * 100, 2), \"%\")"
   ]
  },
  {
   "cell_type": "code",
   "execution_count": 12,
   "metadata": {
    "pycharm": {
     "name": "#%%\n"
    }
   },
   "outputs": [
    {
     "data": {
      "text/plain": "<Figure size 576x288 with 10 Axes>",
      "image/png": "[encoded data removed]"
     },
     "metadata": {},
     "output_type": "display_data"
    }
   ],
   "source": [
    "# predictions\n",
    "y_preds = model.test_pred(x_test)\n",
    "viz.img_plot(\"Sample images and predicted labels\", x_test, labels_test[y_preds])\n"
   ]
  }
 ],
 "metadata": {
  "kernelspec": {
   "display_name": "Python 3",
   "language": "python",
   "name": "python3"
  },
  "language_info": {
   "codemirror_mode": {
    "name": "ipython",
    "version": 3
   },
   "file_extension": ".py",
   "mimetype": "text/x-python",
   "name": "python",
   "nbconvert_exporter": "python",
   "pygments_lexer": "ipython3",
   "version": "3.8.1"
  }
 },
 "nbformat": 4,
 "nbformat_minor": 1
}